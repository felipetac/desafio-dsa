{
 "metadata": {
  "language_info": {
   "codemirror_mode": {
    "name": "ipython",
    "version": 3
   },
   "file_extension": ".py",
   "mimetype": "text/x-python",
   "name": "python",
   "nbconvert_exporter": "python",
   "pygments_lexer": "ipython3",
   "version": "3.9.6"
  },
  "orig_nbformat": 4,
  "kernelspec": {
   "name": "python3",
   "display_name": "Python 3.9.6 64-bit ('desafio-dsa-7oIc4PXk-py3.9': poetry)"
  },
  "interpreter": {
   "hash": "77b77aa7b32a0290aa7326285cdfa62397d19a01a56e9d7929e0cf63cfaedda0"
  }
 },
 "nbformat": 4,
 "nbformat_minor": 2,
 "cells": [
  {
   "cell_type": "code",
   "execution_count": 1,
   "metadata": {},
   "outputs": [],
   "source": [
    "# importando pacotes necessários para o desafio\n",
    "import numpy as np\n",
    "from nose.tools import assert_equal, assert_raises"
   ]
  },
  {
   "source": [
    "## Missão 1: Implementar um algoritmo para determinar se uma string possui todos os caracteres exclusivos.\n",
    "\n",
    "### Premissas:\n",
    "- Podemos assumir que a string é ASCII? **Sim**      \n",
    "*Nota: As cadeias de caracteres Unicode podem exigir tratamento especial dependendo do seu idioma*\n",
    "- Podemos supor que há distinção entre maiúsculas e minúsculas? **Sim**\n",
    "- Podemos usar estruturas de dados adicionais? **Sim**\n",
    "\n",
    "### Teste Cases\n",
    "\n",
    "* None -> False\n",
    "* '' -> True\n",
    "* 'foo' -> False\n",
    "* 'bar' -> True\n",
    "\n",
    "### Algoritmo: Hash Map Lookup\n",
    "\n",
    "Manteremos um mapa hash (conjunto) para rastrear os caracteres únicos que encontramos.\n",
    "\n",
    "#### Passos:\n",
    "* Faça um scan cada caracter\n",
    "* Para cada caracter:\n",
    "    - Se o caracter não existir em um mapa de hash, adicione o caractere a um mapa de hash\n",
    "    - Senão, retorne False\n",
    "* Retornar Verdadeiro\n",
    "\n",
    "#### Nota:\n",
    "* Também podemos usar um dicionário, mas parece mais lógico usar um set, pois ele não contém elementos duplicados\n"
   ],
   "cell_type": "markdown",
   "metadata": {}
  },
  {
   "cell_type": "code",
   "execution_count": 2,
   "metadata": {},
   "outputs": [
    {
     "output_type": "stream",
     "name": "stdout",
     "text": [
      "Sua solução foi executada com sucesso! Parabéns!\n"
     ]
    }
   ],
   "source": [
    "# Solução\n",
    "class UniqueChars(object):\n",
    "\n",
    "    def has_unique_chars(self, string = None):\n",
    "        if string == '':\n",
    "            return True\n",
    "        if not string:\n",
    "            return False\n",
    "        lst = len(list(string))\n",
    "        unic = len(list(set(string)))\n",
    "        return lst == unic\n",
    "\n",
    "# Testes\n",
    "class TestUniqueChars(object):\n",
    "\n",
    "    def test_unique_chars(self, func):\n",
    "        assert_equal(func(None), False)\n",
    "        assert_equal(func(''), True)\n",
    "        assert_equal(func('foo'), False)\n",
    "        assert_equal(func('bar'), True)\n",
    "        print('Sua solução foi executada com sucesso! Parabéns!')\n",
    "\n",
    "test = TestUniqueChars()\n",
    "unique_chars = UniqueChars()\n",
    "test.test_unique_chars(unique_chars.has_unique_chars)"
   ]
  },
  {
   "source": [
    "## Missão 2: Gerar uma lista de números primos.\n",
    "\n",
    "### Premissas\n",
    "\n",
    "* É correto que 1 não seja considerado um número primo? **Sim**\n",
    "* Podemos assumir que as entradas são válidas? **Não**\n",
    "* Podemos supor que isso se encaixa na memória? **Sim**\n",
    "\n",
    "### Teste Cases\n",
    "\n",
    "* None -> Exception\n",
    "* Not an int -> Exception\n",
    "* 20 -> [2, 3, 5, 7, 11, 13, 17, 19]\n",
    "\n",
    "### Notas\n",
    "\n",
    "- Para um número ser primo, ele deve ser 2 ou maior e não pode ser divisível por outro número diferente de si mesmo (e 1).\n",
    "- Todos os números não-primos são divisíveis por um número primo."
   ],
   "cell_type": "markdown",
   "metadata": {}
  },
  {
   "cell_type": "code",
   "execution_count": 3,
   "metadata": {},
   "outputs": [
    {
     "output_type": "stream",
     "name": "stdout",
     "text": [
      "Sua solução foi executada com sucesso! Parabéns!\n"
     ]
    }
   ],
   "source": [
    "# Solução\n",
    "class PrimeGenerator(object):\n",
    "\n",
    "    def generate_primes(self, max_num):\n",
    "        if type(max_num) != int:\n",
    "            raise TypeError\n",
    "        return [num for num in range(2, max_num) if all(num%i!=0 for i in range(2, num))]\n",
    "\n",
    "# Testes\n",
    "class TestMath(object):\n",
    "\n",
    "    def test_generate_primes(self):\n",
    "        prime_generator = PrimeGenerator()\n",
    "        assert_raises(TypeError, prime_generator.generate_primes, None)\n",
    "        assert_raises(TypeError, prime_generator.generate_primes, 98.6)\n",
    "        assert_equal(prime_generator.generate_primes(20), [2, 3, 5, 7, 11, 13, 17, 19])\n",
    "        print('Sua solução foi executada com sucesso! Parabéns!')\n",
    "\n",
    "test = TestMath()\n",
    "test.test_generate_primes()"
   ]
  },
  {
   "source": [
    "## Missão 3: Implementar um algoritmo para mover um robô do canto superior esquerdo para o canto inferior direito de uma grade.\n",
    "\n",
    "### Premissas\n",
    "\n",
    "* Existem restrições de como o robô se move? **O robô só pode se mover para a direita e para baixo**\n",
    "* Algumas células são inválidas (fora dos limites)? **Sim**\n",
    "* Podemos supor que as células inicial e final são células válidas? **Sim**\n",
    "* Isso é uma grade retangular? ou seja, a grade não é irregular? **Sim**\n",
    "* Haverá sempre uma maneira válida para o robô chegar ao canto inferior direito? **Não, retorne None**\n",
    "* Podemos assumir que as entradas são válidas? **Não**\n",
    "* Podemos supor que isso se encaixa na memória? **Sim**\n",
    "\n",
    "### Teste Cases\n",
    "\n",
    "<pre>\n",
    "o = célula válida\n",
    "x = célula inválida\n",
    "\n",
    "   0  1  2  3\n",
    "0  o  o  o  o\n",
    "1  o  x  o  o\n",
    "2  o  o  x  o\n",
    "3  x  o  o  o\n",
    "4  o  o  x  o\n",
    "5  o  o  o  x\n",
    "6  o  x  o  x\n",
    "7  o  x  o  o\n",
    "</pre>\n",
    "\n",
    "#### Caso geral\n",
    "\n",
    "```\n",
    "Saída esperada = [(0, 0), (1, 0), (2, 0),\n",
    "                  (2, 1), (3, 1), (4, 1),\n",
    "                  (5, 1), (5, 2), (6, 2), \n",
    "                  (7, 2), (7, 3)]\n",
    "```\n",
    "\n",
    "* Nenhum caminho válido, por exemplo, linha 7, col 2 é inválido\n",
    "* Nenhuma entrada\n",
    "* Matriz vazia"
   ],
   "cell_type": "markdown",
   "metadata": {}
  },
  {
   "cell_type": "code",
   "execution_count": 4,
   "metadata": {},
   "outputs": [
    {
     "output_type": "execute_result",
     "data": {
      "text/plain": [
       "[[1, 1, 1, 1],\n",
       " [1, 0, 1, 1],\n",
       " [1, 1, 0, 1],\n",
       " [0, 1, 1, 1],\n",
       " [1, 1, 0, 1],\n",
       " [1, 1, 1, 0],\n",
       " [1, 0, 1, 0],\n",
       " [1, 0, 1, 1]]"
      ]
     },
     "metadata": {},
     "execution_count": 4
    }
   ],
   "source": [
    "max_rows = 8\n",
    "max_cols = 4\n",
    "matrix = [[1] * max_cols for _ in range(max_rows)]\n",
    "matrix[1][1] = 0\n",
    "matrix[2][2] = 0\n",
    "matrix[3][0] = 0\n",
    "matrix[4][2] = 0\n",
    "matrix[5][3] = 0\n",
    "matrix[6][1] = 0\n",
    "matrix[6][3] = 0\n",
    "matrix[7][1] = 0\n",
    "matrix"
   ]
  },
  {
   "cell_type": "code",
   "execution_count": 5,
   "metadata": {},
   "outputs": [
    {
     "output_type": "stream",
     "name": "stdout",
     "text": [
      "8 4\n"
     ]
    }
   ],
   "source": [
    "rows = len(matrix)\n",
    "columns = len(matrix[0])\n",
    "print(rows, columns)"
   ]
  },
  {
   "cell_type": "code",
   "execution_count": 6,
   "metadata": {
    "tags": []
   },
   "outputs": [
    {
     "output_type": "stream",
     "name": "stdout",
     "text": [
      "Sua solução foi executada com sucesso! Parabéns!\n"
     ]
    }
   ],
   "source": [
    "class Bot(object):\n",
    "\n",
    "    def _move_down(self, matrix, row, col):\n",
    "        rows = len(matrix)\n",
    "        path = []\n",
    "        row += 1\n",
    "        if row < rows:\n",
    "            for r in range(row, rows):\n",
    "                if matrix[r][col] == 0:\n",
    "                    return path\n",
    "                path.append((r, col))\n",
    "        return path\n",
    "\n",
    "    def _move_right(self, matrix, row, col):\n",
    "        columns = len(matrix[0])\n",
    "        path = []\n",
    "        col += 1\n",
    "        if col < columns:\n",
    "            for c in range(col, columns):\n",
    "                if matrix[row][c] == 0:\n",
    "                    return path\n",
    "                path.append((row, c))\n",
    "        return path\n",
    "\n",
    "    def walk_track(self, matrix, row = 0, col = 0, path = [(0, 0)]):\n",
    "        if not matrix:\n",
    "            return None\n",
    "        if type(matrix) != list or np.array(matrix).size == 0:\n",
    "            return None\n",
    "        path += self._move_down(matrix, row, col)\n",
    "        row_s, col_s = path[-1]\n",
    "        path += self._move_right(matrix, row_s, col_s)\n",
    "        row_s, col_s = path[-1]\n",
    "        if row_s+1 == len(matrix) and col_s+1 == len(matrix[0]):\n",
    "            return path\n",
    "        if (row_s, col_s) == (row, col):\n",
    "            return None\n",
    "        return self.walk_track(matrix, row_s, col_s, path)\n",
    "\n",
    "# Testes\n",
    "class TestBot(object):\n",
    "\n",
    "    def test_walk_track(self, func):\n",
    "        assert_equal(func(None), None)\n",
    "        assert_equal(func([[]]), None)\n",
    "        assert_equal(func(matrix), \n",
    "                    [(0, 0), (1, 0), (2, 0), (2, 1), (3, 1), \n",
    "                    (4, 1), (5, 1), (5, 2), (6, 2), (7, 2), \n",
    "                    (7, 3)])\n",
    "        matrix[7][2] = 0\n",
    "        assert_equal(func(matrix), None)\n",
    "        print('Sua solução foi executada com sucesso! Parabéns!')\n",
    "\n",
    "bot = Bot()\n",
    "test = TestBot()\n",
    "test.test_walk_track(bot.walk_track)"
   ]
  },
  {
   "source": [
    "## Missão 4: Implementar o Algoritmo de Ordenação \"Selection sort\".\n",
    "\n",
    "\n",
    "### Premissas\n",
    "\n",
    "* As duplicatas são permitidas? **Sim**\n",
    "* Podemos assumir que a entrada é válida? **Não**\n",
    "* Podemos supor que isso se encaixa na memória? **Sim**\n",
    "\n",
    "### Teste Cases\n",
    "\n",
    "* None -> Exception\n",
    "* [] -> []\n",
    "* One element -> [element]\n",
    "* Two or more elements\n",
    "\n",
    "### Algoritmo\n",
    "\n",
    "![alt text](http://upload.wikimedia.org/wikipedia/commons/9/94/Selection-Sort-Animation.gif)\n",
    "\n",
    "Podemos fazer isso de forma recursiva ou iterativa. Iterativamente será mais eficiente, pois não requer sobrecarga de espaço extra com as chamadas recursivas.\n",
    "\n"
   ],
   "cell_type": "markdown",
   "metadata": {}
  },
  {
   "cell_type": "code",
   "execution_count": 7,
   "metadata": {},
   "outputs": [
    {
     "output_type": "stream",
     "name": "stdout",
     "text": [
      "Sua solução foi executada com sucesso! Parabéns!\n"
     ]
    }
   ],
   "source": [
    "# Solução\n",
    "# Existe uma função pronta para isso não vi nada de desafio, mas como a missão era\n",
    "# IMPLENTAR uma função, segui a figura explicativa e implementei a logica\n",
    "class Sort(object):\n",
    "\n",
    "    def bubble(self, array):\n",
    "        if type(array) != list:\n",
    "            raise TypeError\n",
    "        n = len(array)\n",
    "        for i in range(n):\n",
    "            already_sorted = True\n",
    "            for j in range(n - i - 1):\n",
    "                if array[j] > array[j + 1]:\n",
    "                    array[j], array[j + 1] = array[j + 1], array[j]\n",
    "                    already_sorted = False\n",
    "            if already_sorted:\n",
    "                break\n",
    "        return array\n",
    "\n",
    "# Teste\n",
    "class TestSort(object):\n",
    "\n",
    "    def test_bubble_sort(self, func):\n",
    "        data = [5, 1, 7, 2, 6, -3, 5, 7, -10]\n",
    "        assert_raises(TypeError, func, None)\n",
    "        assert_equal(func([]), [])\n",
    "        assert_equal(func([5]), [5])\n",
    "        assert_equal(func(data), sorted(data))\n",
    "        print('Sua solução foi executada com sucesso! Parabéns!')\n",
    "\n",
    "sort = Sort()\n",
    "test = TestSort()\n",
    "test.test_bubble_sort(sort.bubble)"
   ]
  },
  {
   "source": [
    "## Missão 5: Analisar o Comportamento de Compra de Consumidores.\n",
    "\n",
    "Esta missão eu separei em um novo mini-projeto de data analytics. Segue o Link [Clique Aqui](https://github.com/felipetac/compras-data-analytics-python)."
   ],
   "cell_type": "markdown",
   "metadata": {}
  }
 ]
}